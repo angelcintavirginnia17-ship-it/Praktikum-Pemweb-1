{
  "cells": [
    {
      "cell_type": "markdown",
      "metadata": {
        "id": "view-in-github",
        "colab_type": "text"
      },
      "source": [
        "<a href=\"https://colab.research.google.com/github/angelcintavirginnia17-ship-it/Praktikum-Pemweb-1/blob/main/praktikum5.ipynb\" target=\"_parent\"><img src=\"https://colab.research.google.com/assets/colab-badge.svg\" alt=\"Open In Colab\"/></a>"
      ]
    },
    {
      "cell_type": "code",
      "source": [
        "namakendaraan =\"beat ember\"\n",
        "jeniskendaraan = \"motor\"\n",
        "cckendaraan = 150\n",
        "warnakendaraan=\"hitam\"\n",
        "rodakendaraan = 2\n",
        "\n",
        "data_kendaraan = [\n",
        "     namakendaraan, jeniskendaraan, cckendaraan, warnakendaraan, rodakendaraan\n",
        "]\n",
        "print(data_kendaraan)\n",
        "\n",
        "hargakendaraan = 5000\n",
        "tipekendaraan = \"matic\"\n",
        "\n",
        "data_kendaraan.append(hargakendaraan)\n",
        "data_kendaraan.append(tipekendaraan)\n",
        "print(data_kendaraan)\n",
        "\n",
        "merkkendaraan = \"honda\"\n",
        "data_kendaraan.insert(2, merkkendaraan)\n",
        "print(data_kendaraan)"
      ],
      "metadata": {
        "colab": {
          "base_uri": "https://localhost:8080/"
        },
        "id": "aWcSdnfs5Fw_",
        "outputId": "208558a7-6553-46b6-927b-242c038bcb6a"
      },
      "execution_count": null,
      "outputs": [
        {
          "output_type": "stream",
          "name": "stdout",
          "text": [
            "['beat ember', 'motor', 150, 'hitam', 2]\n",
            "['beat ember', 'motor', 150, 'hitam', 2, 5000, 'matic']\n",
            "['beat ember', 'motor', 'honda', 150, 'hitam', 2, 5000, 'matic']\n"
          ]
        }
      ]
    },
    {
      "cell_type": "code",
      "source": [
        "pilihan = int(input(\"\"\"\n",
        "silahkah pilih menu yang di inginkan\n",
        "====================================\n",
        "1. luas persegi\n",
        "2. luas lingkaran\n",
        "3. luas segitiga\n",
        "====================================\n",
        "kirimkan hanya angka saja,\n",
        "jawaban = \"\"\"))\n",
        "\n",
        "print(type(pilihan))\n",
        "match pilihan:\n",
        "      case 1:\n",
        "        sisi = int(input(\"sisi = \"))\n",
        "        luas = sisi * sisi\n",
        "\n",
        "        print(f\"luas persegi dengan sisi {sisi} adalah {luas}\")\n",
        "\n",
        "         #luas persegi\n",
        "      case 2:\n",
        "         # luas lingkaran\n",
        "         # phi * jarijari**2\n",
        "        print(\"anda memilih luas segitiga silahkan isi data dibawah\")\n",
        "        jarijari =\n",
        "      case 3:\n",
        "         # luas segitiga\n",
        "         # (alas * tinggi)/2\n",
        "         print(\"\")\n",
        "      case _:\n",
        "         print(\"gatau pusing\")"
      ],
      "metadata": {
        "colab": {
          "base_uri": "https://localhost:8080/"
        },
        "id": "dupYVJ4T9kFk",
        "outputId": "a6c1d47b-3ef9-4722-a3e4-cb214526e381"
      },
      "execution_count": null,
      "outputs": [
        {
          "output_type": "stream",
          "name": "stdout",
          "text": [
            "\n",
            "silahkah pilih menu yang di inginkan\n",
            "====================================\n",
            "1. luas persegi \n",
            "2. luas lingkaran \n",
            "3. luas segitiga \n",
            "====================================\n",
            "kirimkan hanya angka saja,\n",
            "jawaban = 1\n",
            "<class 'int'>\n",
            "sisi = 3\n",
            "luas persegi dengan sisi 3 adalah 9\n"
          ]
        }
      ]
    },
    {
      "cell_type": "code",
      "source": [],
      "metadata": {
        "id": "eadr9CT29kN-"
      },
      "execution_count": null,
      "outputs": []
    }
  ],
  "metadata": {
    "colab": {
      "provenance": [],
      "authorship_tag": "ABX9TyNOwiIZaXGtqV9H8pJnVLHo",
      "include_colab_link": true
    },
    "kernelspec": {
      "display_name": "Python 3",
      "name": "python3"
    },
    "language_info": {
      "name": "python"
    }
  },
  "nbformat": 4,
  "nbformat_minor": 0
}